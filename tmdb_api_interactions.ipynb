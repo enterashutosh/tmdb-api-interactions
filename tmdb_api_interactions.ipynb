{
  "nbformat": 4,
  "nbformat_minor": 0,
  "metadata": {
    "colab": {
      "provenance": []
    },
    "kernelspec": {
      "name": "python3",
      "display_name": "Python 3"
    },
    "language_info": {
      "name": "python"
    }
  },
  "cells": [
    {
      "cell_type": "markdown",
      "source": [
        "the api"
      ],
      "metadata": {
        "id": "6nPXWhaOisum"
      }
    },
    {
      "cell_type": "code",
      "source": [
        "# https://api.themoviedb.org/3/movie/550?api_key=ea427b45af064ce4357367738a6bcae1"
      ],
      "metadata": {
        "id": "1WOfgUUVP2Lz"
      },
      "execution_count": null,
      "outputs": []
    },
    {
      "cell_type": "markdown",
      "source": [
        "set up for requests"
      ],
      "metadata": {
        "id": "huc9glaWfgzk"
      }
    },
    {
      "cell_type": "code",
      "source": [
        "import requests\n",
        "api_key = \"4ef4e74972dda644dd48bc97dad4c26d\"\n",
        "api_url = \"https://api.themoviedb.org/3\"\n",
        "\n",
        "header = {'Content-Type': \"application/json\"}"
      ],
      "metadata": {
        "id": "RHOlbBQrQCeH"
      },
      "execution_count": 17,
      "outputs": []
    },
    {
      "cell_type": "markdown",
      "source": [
        "# searching movies"
      ],
      "metadata": {
        "id": "Rf0Jd8QggXz3"
      }
    },
    {
      "cell_type": "code",
      "source": [
        "params =  {'query' : \"wild\", 'api_key' : api_key}\n",
        "response = requests.get(api_url + \"/search/tv\", params = params, headers = header)\n",
        "\n",
        "# print(response.text)\n",
        "\n",
        "data = response.json()\n",
        "results = data['results']\n",
        "for result in results:\n",
        "  print(result['original_name'])"
      ],
      "metadata": {
        "colab": {
          "base_uri": "https://localhost:8080/"
        },
        "id": "3A7OBarXf9PW",
        "outputId": "4bff4624-3fce-4e76-fa8c-cce842796d61"
      },
      "execution_count": 23,
      "outputs": [
        {
          "output_type": "stream",
          "name": "stdout",
          "text": [
            "Flor Salvaje\n",
            "The Wild Wild West\n",
            "ゾイドワイルド ZERO\n",
            "Im Tal der wilden Rosen\n",
            "ハングリーハート WILD STRIKER\n",
            "Corazón salvaje\n",
            "Corazón Indomable\n",
            "Yabani\n",
            "Wild\n",
            "Nick Cannon Presents: Wild 'N Out\n",
            "Jaja馬!カルテット\n",
            "The Adventures of Wild Bill Hickok\n",
            "十三太保\n",
            "ワイルド７\n",
            "野外步出\n",
            "ゾイドワイルド\n",
            "Дикий\n",
            "风吹半夏\n",
            "The Really Wild Show\n",
            "Muñeca Brava\n"
          ]
        }
      ]
    },
    {
      "cell_type": "markdown",
      "source": [
        "# side note on converting json string into python dictionary"
      ],
      "metadata": {
        "id": "LX9ZXqaSfUrA"
      }
    },
    {
      "cell_type": "code",
      "source": [
        "print(type(response.text))\n",
        "\n",
        "import json\n",
        "\n",
        "python_data = json.loads(response.text)\n",
        "print(type(python_data))"
      ],
      "metadata": {
        "colab": {
          "base_uri": "https://localhost:8080/"
        },
        "id": "ap2hD8XdZwvZ",
        "outputId": "9a5972ae-6c87-4307-8feb-8ee5b7fec5db"
      },
      "execution_count": 15,
      "outputs": [
        {
          "output_type": "stream",
          "name": "stdout",
          "text": [
            "<class 'str'>\n",
            "<class 'dict'>\n"
          ]
        }
      ]
    },
    {
      "cell_type": "markdown",
      "source": [
        "# searching actor"
      ],
      "metadata": {
        "id": "6asRZ8Y6fvjp"
      }
    },
    {
      "cell_type": "code",
      "source": [
        "params = {'query': \"christian\", 'api_key' : api_key}\n",
        "response = requests.get(api_url + '/search/person', headers = header, params = params)\n",
        "\n",
        "print(response.url)\n",
        "print(response.text)"
      ],
      "metadata": {
        "colab": {
          "base_uri": "https://localhost:8080/"
        },
        "id": "otJIEmOcad0Y",
        "outputId": "c886dd5e-9382-43f2-8d31-69a626b98796"
      },
      "execution_count": 16,
      "outputs": [
        {
          "output_type": "stream",
          "name": "stdout",
          "text": [
            "https://api.themoviedb.org/3/search/person?query=christian&api_key=4ef4e74972dda644dd48bc97dad4c26d\n",
            "{\"page\":1,\"results\":[{\"adult\":false,\"gender\":0,\"id\":73803,\"known_for_department\":\"Acting\",\"name\":\"Christian\",\"original_name\":\"Christian\",\"popularity\":0.6,\"profile_path\":null,\"known_for\":[{\"adult\":false,\"backdrop_path\":null,\"id\":12815,\"title\":\"White Terror\",\"original_language\":\"de\",\"original_title\":\"White Terror\",\"overview\":\"A documentary about Nazis in Sweden.\",\"poster_path\":\"/hdocQvNUi3Mjxz2K58S6LsRixxq.jpg\",\"media_type\":\"movie\",\"genre_ids\":[99],\"popularity\":2.108,\"release_date\":\"2005-01-01\",\"video\":false,\"vote_average\":6.8,\"vote_count\":4}]},{\"adult\":false,\"gender\":0,\"id\":3234825,\"known_for_department\":\"Acting\",\"name\":\"Christian\",\"original_name\":\"Christian\",\"popularity\":0.6,\"profile_path\":null,\"known_for\":[{\"adult\":false,\"backdrop_path\":\"/6NsLc5WaPxOCe181OLq6CrjzDZJ.jpg\",\"id\":500805,\"title\":\"Kinshasa Makambo\",\"original_language\":\"ln\",\"original_title\":\"Kinshasa Makambo\",\"overview\":\"Christian, Ben and Jean-Marie are fighting for political change of power and free elections in their country, the Democratic Republic of the Congo. But the incumbent President refuses to relinquish power. How can the course of events be changed? Must they join forces with the historical opposition leader and his powerful party? Is dialogue still possible or must they resign themselves to a popular uprising and the risk of a blood bath?\",\"poster_path\":\"/fGWSJi70oDYztJZ8PAVzVulJihA.jpg\",\"media_type\":\"movie\",\"genre_ids\":[99],\"popularity\":1.841,\"release_date\":\"2018-11-30\",\"video\":false,\"vote_average\":5.3,\"vote_count\":6}]},{\"adult\":false,\"gender\":0,\"id\":3172478,\"known_for_department\":\"Acting\",\"name\":\"Christian\",\"original_name\":\"Christian\",\"popularity\":1.553,\"profile_path\":null,\"known_for\":[{\"adult\":false,\"backdrop_path\":null,\"id\":188359,\"title\":\"Trailer Town\",\"original_language\":\"en\",\"original_title\":\"Trailer Town\",\"overview\":\"Trailer Town is a unique motion picture experience, truly unlike anything you've seen before. A sexual interpretation of inner violence, about out-of-work comedians living in a trailer park run by a soap opera star. The old comedians cannot work anymore due to their addictions, and come up with the filthiest, most offensive routines they can devise, to strike out at mainstream society, their only audience being themselves. When Bill recieves an eviction notice for having too many wild parties, he takes to the roof of his trailer with a rifle, and declares he is a victim of an 'aluminum holocaust.'\",\"poster_path\":\"/liuMGAk7d00BYftYxPOfSFNJb77.jpg\",\"media_type\":\"movie\",\"genre_ids\":[18,35],\"popularity\":1.101,\"release_date\":\"2003-03-09\",\"video\":false,\"vote_average\":6.0,\"vote_count\":2}]},{\"adult\":false,\"gender\":0,\"id\":3649025,\"known_for_department\":\"Writing\",\"name\":\"Christian\",\"original_name\":\"Christian\",\"popularity\":0.6,\"profile_path\":null,\"known_for\":[{\"adult\":false,\"backdrop_path\":\"/z7sj8RdH837ZvrKcucW0ONwt52N.jpg\",\"id\":1008108,\"title\":\"Art is Self Love\",\"original_language\":\"en\",\"original_title\":\"Art is Self Love\",\"overview\":\"A group of kids made a poem about how you can love yourself through Art. The poem goes as: \\\"Art is such a beautiful way of expression. It can start off as something beautiful yet ugly. And turn into something lovely and bright. Colors blend in together...\\\"\",\"poster_path\":\"/jAhJYPRbffc60Cn3o8Tz8P28zeu.jpg\",\"media_type\":\"movie\",\"genre_ids\":[99],\"popularity\":0.6,\"release_date\":\"2022-08-05\",\"video\":false,\"vote_average\":8.0,\"vote_count\":1}]},{\"adult\":false,\"gender\":0,\"id\":2357596,\"known_for_department\":\"Acting\",\"name\":\"Christian\",\"original_name\":\"Christian\",\"popularity\":0.6,\"profile_path\":null,\"known_for\":[{\"adult\":false,\"backdrop_path\":null,\"id\":614145,\"title\":\"The Sacred Disease\",\"original_language\":\"en\",\"original_title\":\"The Sacred Disease\",\"overview\":\"A bereaved epileptic ditches her pills and follows a mysterious woman to the outskirts of her town, where she slips back into the fearsome yet ecstatic throes of the seizure.\",\"poster_path\":null,\"media_type\":\"movie\",\"genre_ids\":[18,53],\"popularity\":1.594,\"release_date\":\"2016-05-21\",\"video\":false,\"vote_average\":0.0,\"vote_count\":0}]},{\"adult\":false,\"gender\":2,\"id\":3083947,\"known_for_department\":\"Acting\",\"name\":\"Christian\",\"original_name\":\"Christian\",\"popularity\":2.588,\"profile_path\":null,\"known_for\":[{\"adult\":false,\"backdrop_path\":\"/nYr3pkpru7mnzTkdzPKLrxuQ5i2.jpg\",\"id\":125155,\"name\":\"The Sanremo Case\",\"original_language\":\"it\",\"original_name\":\"Il caso Sanremo\",\"overview\":\"An ironic and comic trial, in five episodes, of the history of the Sanremo Festival, demystifying the most solemn musical event on Italian television. The \\\"judge\\\" Renzo Arbore presides, together with \\\"Prosecutor\\\" Michele Mirabella and \\\"Defense attorney\\\" Lino Banfi.\",\"poster_path\":\"/wWDMXSFpTk1MYlGJne1X0bJthpy.jpg\",\"media_type\":\"tv\",\"genre_ids\":[35,10767],\"popularity\":19.355,\"first_air_date\":\"1990-01-27\",\"vote_average\":0.0,\"vote_count\":0,\"origin_country\":[\"IT\"]}]},{\"adult\":false,\"gender\":2,\"id\":2289481,\"known_for_department\":\"Acting\",\"name\":\"Christian\",\"original_name\":\"Christian\",\"popularity\":1.741,\"profile_path\":\"/dxuQJaeFkBZHmJhgnZzHCjuJ0ZZ.jpg\",\"known_for\":[{\"adult\":false,\"backdrop_path\":\"/ctJBj8WBiGJ9Ubxn8gs8yAxZq8B.jpg\",\"id\":64612,\"name\":\"L'amour est dans le pré\",\"original_language\":\"fr\",\"original_name\":\"L'amour est dans le pré\",\"overview\":\"Male and female farmers take fate into their own hands in order to find true love. They open their homes to three candidates with whom they share the daily chores and activities. Over time, connections are made, chemistry develops and loving relationships will hopefully take root!\",\"poster_path\":\"/m03DocUTyYeJxWUiTHfDh3qVbar.jpg\",\"media_type\":\"tv\",\"genre_ids\":[10749,10764],\"popularity\":21.695,\"first_air_date\":\"2012-01-26\",\"vote_average\":8.0,\"vote_count\":1,\"origin_country\":[\"CA\"]},{\"adult\":false,\"backdrop_path\":\"/aDsTtza6TzDZizjEGg3PxuyfMf6.jpg\",\"id\":89185,\"name\":\"À table avec mon ex!\",\"original_language\":\"fr\",\"original_name\":\"À table avec mon ex!\",\"overview\":\"Tormer couples get together for a meal to ask the questions that were left unanswered and – who knows? – perhaps rekindle their romance.\",\"poster_path\":\"/jHEBzH798vQPUYxyOqq3dj7nk9w.jpg\",\"media_type\":\"tv\",\"genre_ids\":[10764],\"popularity\":22.475,\"first_air_date\":\"2019-09-16\",\"vote_average\":0.0,\"vote_count\":0,\"origin_country\":[\"CA\"]}]},{\"adult\":false,\"gender\":0,\"id\":4057426,\"known_for_department\":\"Acting\",\"name\":\"Christian\",\"original_name\":\"Christian\",\"popularity\":0.6,\"profile_path\":null,\"known_for\":[{\"adult\":false,\"backdrop_path\":\"/g12N2r9crTAQUaFbKUfZErYXkHz.jpg\",\"id\":492459,\"title\":\"Dilan 1990\",\"original_language\":\"id\",\"original_title\":\"Dilan 1990\",\"overview\":\"At a Bandung high school, charming and rebellious Dilan vies for the affections of shy new student Milea.\",\"poster_path\":\"/eitRZXfbw6rO0CfP3lPaGgK63qr.jpg\",\"media_type\":\"movie\",\"genre_ids\":[18,10749],\"popularity\":4.414,\"release_date\":\"2018-01-25\",\"video\":false,\"vote_average\":7.897,\"vote_count\":29}]},{\"adult\":false,\"gender\":1,\"id\":52300,\"known_for_department\":\"Acting\",\"name\":\"Claudia Christian\",\"original_name\":\"Claudia Christian\",\"popularity\":23.526,\"profile_path\":\"/bwmh731OxEyzgtR95nRraLDZLyB.jpg\",\"known_for\":[{\"adult\":false,\"backdrop_path\":\"/fYr0fqT9NImOuaN1QgnDHgGh4Ci.jpg\",\"id\":10865,\"title\":\"Atlantis: The Lost Empire\",\"original_language\":\"en\",\"original_title\":\"Atlantis: The Lost Empire\",\"overview\":\"The world's most highly qualified crew of archaeologists and explorers is led by historian Milo Thatch as they board the incredible 1,000-foot submarine Ulysses and head deep into the mysteries of the sea. The underwater expedition takes an unexpected turn when the team's mission must switch from exploring Atlantis to protecting it.\",\"poster_path\":\"/iqGKNML7IUqw4wVNobkpkeYZbUQ.jpg\",\"media_type\":\"movie\",\"genre_ids\":[16,10751,12,878],\"popularity\":26.763,\"release_date\":\"2001-06-02\",\"video\":false,\"vote_average\":7.0,\"vote_count\":4457},{\"adult\":false,\"backdrop_path\":\"/3NhTdtnIwkZPbT5rAQ1yzItx2aH.jpg\",\"id\":12476,\"title\":\"The Hidden\",\"original_language\":\"en\",\"original_title\":\"The Hidden\",\"overview\":\"When average, law-abiding citizens suddenly turn to a life of hedonistic behavior and violent crime, Detective Tom Beck is tasked with helping young FBI agent Lloyd Gallagher determine the cause.\",\"poster_path\":\"/pCoFtULUIebq13EU9glcZjfdC1a.jpg\",\"media_type\":\"movie\",\"genre_ids\":[878,53,27],\"popularity\":16.132,\"release_date\":\"1987-10-30\",\"video\":false,\"vote_average\":6.9,\"vote_count\":375},{\"adult\":false,\"backdrop_path\":\"/ymdCZck7hy7EDxUTR4Uq1MisfyX.jpg\",\"id\":3137,\"name\":\"Babylon 5\",\"original_language\":\"en\",\"original_name\":\"Babylon 5\",\"overview\":\"Babylon 5 is a five-mile long space station located in neutral space. Built by the Earth Alliance in the 2250s, its goal is to maintain peace among the various alien races by providing a sanctuary where grievances and negotiations can be worked out among duly appointed ambassadors. A council made up of representatives from the five major space-faring civilizations - the Earth Alliance, Minbari Federation, Centauri Republic, Narn Regime, and Vorlon Empire - work with the League of Non-Aligned Worlds to keep interstellar relations under control. Aside from its diplomatic function, Babylon 5 also serves as a military post for Earth and a port of call for travelers, traders, businessmen, criminals, and Rangers.\",\"poster_path\":\"/rj87TqwabgJzslrH4G6BCDseBKV.jpg\",\"media_type\":\"tv\",\"genre_ids\":[18,10765],\"popularity\":180.489,\"first_air_date\":\"1994-01-26\",\"vote_average\":8.1,\"vote_count\":470,\"origin_country\":[\"US\"]}]},{\"adult\":false,\"gender\":2,\"id\":2224,\"known_for_department\":\"Acting\",\"name\":\"Christian Slater\",\"original_name\":\"Christian Slater\",\"popularity\":43.648,\"profile_path\":\"/6ww3uweEEXMlvtNjTlgBHxLErPF.jpg\",\"known_for\":[{\"adult\":false,\"backdrop_path\":\"/nQYyA4wVwd6hltkkTFiK0iMH6Ft.jpg\",\"id\":319,\"title\":\"True Romance\",\"original_language\":\"en\",\"original_title\":\"True Romance\",\"overview\":\"Clarence marries hooker Alabama, steals cocaine from her pimp, and tries to sell it in Hollywood, while the owners of the coke try to reclaim it.\",\"poster_path\":\"/39lXk6ud6KiJgGbbWI2PUKS7y2.jpg\",\"media_type\":\"movie\",\"genre_ids\":[28,80,10749],\"popularity\":35.575,\"release_date\":\"1993-09-09\",\"video\":false,\"vote_average\":7.5,\"vote_count\":2536},{\"adult\":false,\"backdrop_path\":\"/uJUe985oIuRiD3hmHQYskIMc2WU.jpg\",\"id\":62560,\"name\":\"Mr. Robot\",\"original_language\":\"en\",\"original_name\":\"Mr. Robot\",\"overview\":\"A contemporary and culturally resonant drama about a young programmer, Elliot, who suffers from a debilitating anti-social disorder and decides that he can only connect to people by hacking them. He wields his skills as a weapon to protect the people that he cares about. Elliot will find himself in the intersection between a cybersecurity firm he works for and the underworld organizations that are recruiting him to bring down corporate America.\",\"poster_path\":\"/oKIBhzZzDX07SoE2bOLhq2EE8rf.jpg\",\"media_type\":\"tv\",\"genre_ids\":[80,18],\"popularity\":598.52,\"first_air_date\":\"2015-06-24\",\"vote_average\":8.2,\"vote_count\":4296,\"origin_country\":[\"US\"]},{\"adult\":false,\"backdrop_path\":\"/3fChciF2G1wXHsyTfJD9y7uN6Il.jpg\",\"id\":628,\"title\":\"Interview with the Vampire\",\"original_language\":\"en\",\"original_title\":\"Interview with the Vampire\",\"overview\":\"A vampire relates his epic life story of love, betrayal, loneliness, and dark hunger to an over-curious reporter.\",\"poster_path\":\"/2162lAT2MP36MyJd2sttmj5du5T.jpg\",\"media_type\":\"movie\",\"genre_ids\":[27,18,14],\"popularity\":39.227,\"release_date\":\"1994-11-11\",\"video\":false,\"vote_average\":7.4,\"vote_count\":5493}]},{\"adult\":false,\"gender\":2,\"id\":3894,\"known_for_department\":\"Acting\",\"name\":\"Christian Bale\",\"original_name\":\"Christian Bale\",\"popularity\":50.391,\"profile_path\":\"/v2Oks7DTbZcKzSi2Pw58C7SSLzM.jpg\",\"known_for\":[{\"adult\":false,\"backdrop_path\":\"/nMKdUUepR0i5zn0y1T4CsSB5chy.jpg\",\"id\":155,\"title\":\"The Dark Knight\",\"original_language\":\"en\",\"original_title\":\"The Dark Knight\",\"overview\":\"Batman raises the stakes in his war on crime. With the help of Lt. Jim Gordon and District Attorney Harvey Dent, Batman sets out to dismantle the remaining criminal organizations that plague the streets. The partnership proves to be effective, but they soon find themselves prey to a reign of chaos unleashed by a rising criminal mastermind known to the terrified citizens of Gotham as the Joker.\",\"poster_path\":\"/qJ2tW6WMUDux911r6m7haRef0WH.jpg\",\"media_type\":\"movie\",\"genre_ids\":[18,28,80,53],\"popularity\":101.005,\"release_date\":\"2008-07-16\",\"video\":false,\"vote_average\":8.515,\"vote_count\":31400},{\"adult\":false,\"backdrop_path\":\"/c3OHQncTAnKFhdOTX7D3LTW6son.jpg\",\"id\":49026,\"title\":\"The Dark Knight Rises\",\"original_language\":\"en\",\"original_title\":\"The Dark Knight Rises\",\"overview\":\"Following the death of District Attorney Harvey Dent, Batman assumes responsibility for Dent's crimes to protect the late attorney's reputation and is subsequently hunted by the Gotham City Police Department. Eight years later, Batman encounters the mysterious Selina Kyle and the villainous Bane, a new terrorist leader who overwhelms Gotham's finest. The Dark Knight resurfaces to protect a city that has branded him an enemy.\",\"poster_path\":\"/hr0L2aueqlP2BYUblTTjmtn0hw4.jpg\",\"media_type\":\"movie\",\"genre_ids\":[28,80,18,53],\"popularity\":77.827,\"release_date\":\"2012-07-17\",\"video\":false,\"vote_average\":7.778,\"vote_count\":21800},{\"adult\":false,\"backdrop_path\":\"/lh5lbisD4oDbEKgUxoRaZU8HVrk.jpg\",\"id\":272,\"title\":\"Batman Begins\",\"original_language\":\"en\",\"original_title\":\"Batman Begins\",\"overview\":\"Driven by tragedy, billionaire Bruce Wayne dedicates his life to uncovering and defeating the corruption that plagues his home, Gotham City.  Unable to work within the system, he instead creates a new identity, a symbol of fear for the criminal underworld - The Batman.\",\"poster_path\":\"/4MpN4kIEqUjW8OPtOQJXlTdHiJV.jpg\",\"media_type\":\"movie\",\"genre_ids\":[28,80,18],\"popularity\":57.401,\"release_date\":\"2005-06-10\",\"video\":false,\"vote_average\":7.704,\"vote_count\":20043}]},{\"adult\":false,\"gender\":2,\"id\":219664,\"known_for_department\":\"Acting\",\"name\":\"Cody Christian\",\"original_name\":\"Cody Christian\",\"popularity\":10.249,\"profile_path\":\"/l3DBlk7nLxIOYLKQ40kVHHvEgWB.jpg\",\"known_for\":[{\"adult\":false,\"backdrop_path\":\"/jNPtcaPcAjPs7azPexyTETWBbjK.jpg\",\"id\":225703,\"title\":\"The Starving Games\",\"original_language\":\"en\",\"original_title\":\"The Starving Games\",\"overview\":\"In this Hunger Games spoof, Kantmiss Evershot must fight for her life in the 75th annual Starving Games, where she could also win an old ham, a coupon for a foot-long sub, and a partially eaten pickle.\",\"poster_path\":\"/oHTNil93kpVQ6TOE4pzypgxPKLb.jpg\",\"media_type\":\"movie\",\"genre_ids\":[35],\"popularity\":1.02,\"release_date\":\"2013-11-07\",\"video\":false,\"vote_average\":4.192,\"vote_count\":601},{\"adult\":false,\"backdrop_path\":\"/1F2RnXLc0fmRt7iWfBK4mNVsjno.jpg\",\"id\":34524,\"name\":\"Teen Wolf\",\"original_language\":\"en\",\"original_name\":\"Teen Wolf\",\"overview\":\"Scott McCall, a high school student living in the town of Beacon Hills has his life drastically changed when he's bitten by a werewolf, becoming one himself. He must henceforth learn to balance his problematic new identity with his day-to-day teenage life. The following characters are instrumental to his struggle: Stiles, his best friend; Allison, his love interest who comes from a family of werewolf hunters; and Derek, a mysterious werewolf with a dark past. Throughout the series, he strives to keep his loved ones safe while maintaining normal relationships with them.\",\"poster_path\":\"/fmlMmxSBgPEunHS5gjokIej048g.jpg\",\"media_type\":\"tv\",\"genre_ids\":[10765,18,35],\"popularity\":439.81,\"first_air_date\":\"2011-06-05\",\"vote_average\":8.5,\"vote_count\":3949,\"origin_country\":[\"US\"]},{\"adult\":false,\"backdrop_path\":\"/cCjzu6OZIUDWowadzexCHNBTmjH.jpg\",\"id\":19959,\"title\":\"Surrogates\",\"original_language\":\"en\",\"original_title\":\"Surrogates\",\"overview\":\"Set in a futuristic world where humans live in isolation and interact through surrogate robots, a cop is forced to leave his home for the first time in years in order to investigate the murders of others' surrogates.\",\"poster_path\":\"/v3Z0Hbl0oe57njrrIPh0fJPFoo.jpg\",\"media_type\":\"movie\",\"genre_ids\":[878,28,53],\"popularity\":30.645,\"release_date\":\"2009-09-24\",\"video\":false,\"vote_average\":6.108,\"vote_count\":2991}]},{\"adult\":false,\"gender\":2,\"id\":63977,\"known_for_department\":\"Writing\",\"name\":\"Hans Christian Andersen\",\"original_name\":\"Hans Christian Andersen\",\"popularity\":10.576,\"profile_path\":\"/azV6ZIGZh80eZpVCHAu2cDnytJb.jpg\",\"known_for\":[{\"adult\":false,\"backdrop_path\":\"/fydUcbkqLyESCFa9U5XKqi8dIVj.jpg\",\"id\":109445,\"title\":\"Frozen\",\"original_language\":\"en\",\"original_title\":\"Frozen\",\"overview\":\"Young princess Anna of Arendelle dreams about finding true love at her sister Elsa’s coronation. Fate takes her on a dangerous journey in an attempt to end the eternal winter that has fallen over the kingdom. She's accompanied by ice delivery man Kristoff, his reindeer Sven, and snowman Olaf. On an adventure where she will find out what friendship, courage, family, and true love really means.\",\"poster_path\":\"/itAKcobTYGpYT8Phwjd8c9hleTo.jpg\",\"media_type\":\"movie\",\"genre_ids\":[16,10751,12,14],\"popularity\":93.404,\"release_date\":\"2013-11-20\",\"video\":false,\"vote_average\":7.245,\"vote_count\":15859},{\"adult\":false,\"backdrop_path\":\"/xJWPZIYOEFIjZpBL7SVBGnzRYXp.jpg\",\"id\":330457,\"title\":\"Frozen II\",\"original_language\":\"en\",\"original_title\":\"Frozen II\",\"overview\":\"Elsa, Anna, Kristoff and Olaf head far into the forest to learn the truth about an ancient mystery of their kingdom.\",\"poster_path\":\"/mINJaa34MtknCYl5AjtNJzWj8cD.jpg\",\"media_type\":\"movie\",\"genre_ids\":[10751,16,12,35,14],\"popularity\":78.471,\"release_date\":\"2019-11-20\",\"video\":false,\"vote_average\":7.261,\"vote_count\":9294},{\"adult\":false,\"backdrop_path\":\"/rJfZ6Lh2uwIGsIvpQ5iVz0LR8cz.jpg\",\"id\":10144,\"title\":\"The Little Mermaid\",\"original_language\":\"en\",\"original_title\":\"The Little Mermaid\",\"overview\":\"This colorful adventure tells the story of an impetuous mermaid princess named Ariel who falls in love with the very human Prince Eric and puts everything on the line for the chance to be with him. Memorable songs and characters -- including the villainous sea witch Ursula.\",\"poster_path\":\"/plcZXvI310FkbwIptvd6rqk63LP.jpg\",\"media_type\":\"movie\",\"genre_ids\":[16,10751,14],\"popularity\":82.334,\"release_date\":\"1989-11-17\",\"video\":false,\"vote_average\":7.354,\"vote_count\":7499}]},{\"adult\":false,\"gender\":2,\"id\":71374,\"known_for_department\":\"Acting\",\"name\":\"Christian Friedel\",\"original_name\":\"Christian Friedel\",\"popularity\":7.251,\"profile_path\":\"/e991OjrO8tjAxoPzhg5vjNDHaou.jpg\",\"known_for\":[{\"adult\":false,\"backdrop_path\":\"/zUAIDFmjkU7buiGr6q8Ea9MY3G1.jpg\",\"id\":37903,\"title\":\"The White Ribbon\",\"original_language\":\"de\",\"original_title\":\"Das weiße Band - Eine deutsche Kindergeschichte\",\"overview\":\"An aged tailor recalls his life as the schoolteacher of a small village in Northern Germany that was struck by a series of strange events in the year leading up to WWI.\",\"poster_path\":\"/54dlnGDexrwAFlDb8HWKfmmX4LB.jpg\",\"media_type\":\"movie\",\"genre_ids\":[18,9648],\"popularity\":19.942,\"release_date\":\"2009-09-24\",\"video\":false,\"vote_average\":7.493,\"vote_count\":960},{\"adult\":false,\"backdrop_path\":\"/nuyittfO23P9tA84hANsIzwgiEe.jpg\",\"id\":319337,\"title\":\"13 Minutes\",\"original_language\":\"de\",\"original_title\":\"Elser\",\"overview\":\"The breathtaking story of a man who nearly would have changed the world. In 1939, when Hitler tricked millions of people at the height of his power, radical Georg Elser — disparaged as an assassin — is one of the greatest resistance fighters.\",\"poster_path\":\"/dSaDHmmDWLdoJnCnwJQToFkXJp5.jpg\",\"media_type\":\"movie\",\"genre_ids\":[36,18],\"popularity\":10.458,\"release_date\":\"2015-04-09\",\"video\":false,\"vote_average\":6.878,\"vote_count\":262},{\"adult\":false,\"backdrop_path\":\"/zA4sQNuZc4WcZtnbwE5xe5sy9jC.jpg\",\"id\":467244,\"title\":\"The Zone of Interest\",\"original_language\":\"en\",\"original_title\":\"The Zone of Interest\",\"overview\":\"The commandant of Auschwitz, Rudolf Höss, and his wife Hedwig, strive to build a dream life for their family in a house and garden next to the camp.\",\"poster_path\":\"/AbFtI353N2Pggl5TxfsI2VtpUt8.jpg\",\"media_type\":\"movie\",\"genre_ids\":[18,36,10752],\"popularity\":98.276,\"release_date\":\"2023-11-03\",\"video\":false,\"vote_average\":7.358,\"vote_count\":120}]},{\"adult\":false,\"gender\":1,\"id\":84224,\"known_for_department\":\"Acting\",\"name\":\"Christian Serratos\",\"original_name\":\"Christian Serratos\",\"popularity\":16.066,\"profile_path\":\"/Ac1qrjoVPfOTvVLptbDpZO5wNnG.jpg\",\"known_for\":[{\"adult\":false,\"backdrop_path\":\"/Wu8kh7oyvaIfkNyMJyJHCamh5L.jpg\",\"id\":97180,\"name\":\"Selena: The Series\",\"original_language\":\"en\",\"original_name\":\"Selena: The Series\",\"overview\":\"As Mexican-American Tejano singer Selena comes of age and realizes her dreams, she and her family make tough choices to hold on to love and music.\",\"poster_path\":\"/mYsWyfiIMxx4HDm0Wck7oJ9ckez.jpg\",\"media_type\":\"tv\",\"genre_ids\":[18],\"popularity\":34.542,\"first_air_date\":\"2020-12-04\",\"vote_average\":7.505,\"vote_count\":1545,\"origin_country\":[\"US\"]},{\"adult\":false,\"backdrop_path\":\"/x4salpjB11umlUOltfNvSSrjSXm.jpg\",\"id\":1402,\"name\":\"The Walking Dead\",\"original_language\":\"en\",\"original_name\":\"The Walking Dead\",\"overview\":\"Sheriff's deputy Rick Grimes awakens from a coma to find a post-apocalyptic world dominated by flesh-eating zombies. He sets out to find his family and encounters many other survivors along the way.\",\"poster_path\":\"/n7PVu0hSz2sAsVekpOIoCnkWlbn.jpg\",\"media_type\":\"tv\",\"genre_ids\":[10759,18,10765],\"popularity\":492.976,\"first_air_date\":\"2010-10-31\",\"vote_average\":8.121,\"vote_count\":15791,\"origin_country\":[\"US\"]},{\"adult\":false,\"backdrop_path\":\"/mfFhgR9ILPWbYtvbdyAGUo6fbpT.jpg\",\"id\":8966,\"title\":\"Twilight\",\"original_language\":\"en\",\"original_title\":\"Twilight\",\"overview\":\"When Bella Swan moves to a small town in the Pacific Northwest, she falls in love with Edward Cullen, a mysterious classmate who reveals himself to be a 108-year-old vampire. Despite Edward's repeated cautions, Bella can't stay away from him, a fatal move that endangers her own life.\",\"poster_path\":\"/3Gkb6jm6962ADUPaCBqzz9CTbn9.jpg\",\"media_type\":\"movie\",\"genre_ids\":[14,18,10749],\"popularity\":92.81,\"release_date\":\"2008-11-20\",\"video\":false,\"vote_average\":6.289,\"vote_count\":12917}]},{\"adult\":false,\"gender\":2,\"id\":1840346,\"known_for_department\":\"Acting\",\"name\":\"Christian Calloway\",\"original_name\":\"Christian Calloway\",\"popularity\":3.889,\"profile_path\":\"/eszOqqfkK79SAXT406cHKVbDLsv.jpg\",\"known_for\":[{\"adult\":false,\"backdrop_path\":\"/dIufisifucT5lodcV5wRiN92x09.jpg\",\"id\":463821,\"title\":\"The House with a Clock in Its Walls\",\"original_language\":\"en\",\"original_title\":\"The House with a Clock in Its Walls\",\"overview\":\"When ten-year-old Lewis is suddenly orphaned, he is sent to live with his Uncle Jonathan in a creaky (and creepy) old mansion with a mysterious ticking noise that emanates from the walls. Upon discovering that his uncle is a warlock, Lewis begins learning magic, but when he rebelliously resurrects an evil warlock he must find the secret of the house and save the world from destruction.\",\"poster_path\":\"/qM66Hv4ByAxnilr0jaqCA9uOD4Y.jpg\",\"media_type\":\"movie\",\"genre_ids\":[14,10751,35],\"popularity\":20.578,\"release_date\":\"2018-09-15\",\"video\":false,\"vote_average\":6.242,\"vote_count\":2052},{\"adult\":false,\"backdrop_path\":\"/3ZiM6gm2XL8qnhZCXsTjixvaH4v.jpg\",\"id\":13804,\"title\":\"Fast \\u0026 Furious\",\"original_language\":\"en\",\"original_title\":\"Fast \\u0026 Furious\",\"overview\":\"When a crime brings them back to L.A., fugitive ex-con Dom Toretto reignites his feud with agent Brian O'Conner. But as they are forced to confront a shared enemy, Dom and Brian must give in to an uncertain new trust if they hope to outmaneuver him. And the two men will find the best way to get revenge: push the limits of what's possible behind the wheel.\",\"poster_path\":\"/lUtVoRukW7WNtUySwd8hWlByBds.jpg\",\"media_type\":\"movie\",\"genre_ids\":[28,80,18,53],\"popularity\":7.213,\"release_date\":\"2009-04-02\",\"video\":false,\"vote_average\":6.682,\"vote_count\":6877},{\"adult\":false,\"backdrop_path\":\"/gSsTGqZ7wT0uGhLDpcUOe1jYsi6.jpg\",\"id\":660353,\"title\":\"Ted K\",\"original_language\":\"en\",\"original_title\":\"Ted K\",\"overview\":\"The True Story of Ted Kaczynski, the infamous Unabomber, who wants to destroy modern technology to create a world for himself in the Montana wilderness.\",\"poster_path\":\"/xgBzMsP8a10rEHXNSytPsLhwUVF.jpg\",\"media_type\":\"movie\",\"genre_ids\":[18,80],\"popularity\":15.127,\"release_date\":\"2021-10-29\",\"video\":false,\"vote_average\":6.2,\"vote_count\":104}]},{\"adult\":false,\"gender\":2,\"id\":25735,\"known_for_department\":\"Directing\",\"name\":\"Christian Duguay\",\"original_name\":\"Christian Duguay\",\"popularity\":4.735,\"profile_path\":\"/2v1gj3tJC6btabF8xp0N4p0nlSz.jpg\",\"known_for\":[{\"adult\":false,\"backdrop_path\":\"/iVQifEAWEGA5ajuTjLFv3kFSIOK.jpg\",\"id\":398924,\"title\":\"A Bag of Marbles\",\"original_language\":\"fr\",\"original_title\":\"Un sac de billes\",\"overview\":\"At the beginning of the 1940s, in a France occupied by Nazi forces, lived the Jewish Joffo family. Happy and tight-knit, she sees her future darken when all members of the family are forced to wear the yellow star. Fearing the worst, the parents organized their family to flee to the free zone in the south of the country. Maurice, twelve years old, and Joseph, ten years old, will therefore leave alone in order to maximize their chances of finding their older brothers already settled in Nice.  The brothers left to their own devices demonstrate an incredible amount of cleverness, courage, and ingenuity to escape the enemy invasion and to try to reunite their family once again.\",\"poster_path\":\"/kjVPBXfo7frULyUzQ8NRPAflP8G.jpg\",\"media_type\":\"movie\",\"genre_ids\":[10752,18],\"popularity\":16.955,\"release_date\":\"2017-01-18\",\"video\":false,\"vote_average\":7.841,\"vote_count\":807},{\"adult\":false,\"backdrop_path\":\"/7LMy4tZggDRa31ycv5ccnPtLspV.jpg\",\"id\":9102,\"title\":\"Screamers\",\"original_language\":\"en\",\"original_title\":\"Screamers\",\"overview\":\"SIRIUS 6B, Year 2078. On a distant mining planet ravaged by a decade of war, scientists have created the perfect weapon: a blade-wielding, self-replicating race of killing devices known as Screamers designed for one purpose only -- to hunt down and destroy all enemy life forms.\",\"poster_path\":\"/eqgBf791rMZG7ywHfObpXeMpiRf.jpg\",\"media_type\":\"movie\",\"genre_ids\":[27,878,10752],\"popularity\":14.154,\"release_date\":\"1995-09-08\",\"video\":false,\"vote_average\":6.203,\"vote_count\":495},{\"adult\":false,\"backdrop_path\":\"/pBcDFaPnjWONiIqicu1xXfSKvBI.jpg\",\"id\":11398,\"title\":\"The Art of War\",\"original_language\":\"en\",\"original_title\":\"The Art of War\",\"overview\":\"When ruthless terrorists threaten to bring down the United Nations, they frame the one man they believe can stop them: an international security expert named Shaw. Now he must run from his own allies and become a solitary force for good, as he tries to stop what could become World War III.\",\"poster_path\":\"/m3DsrJC3qzm1GPzjDeb5dRXN6AF.jpg\",\"media_type\":\"movie\",\"genre_ids\":[80,28,12],\"popularity\":11.628,\"release_date\":\"2000-08-25\",\"video\":false,\"vote_average\":5.688,\"vote_count\":454}]},{\"adult\":false,\"gender\":2,\"id\":572724,\"known_for_department\":\"Acting\",\"name\":\"Christian Martyn\",\"original_name\":\"Christian Martyn\",\"popularity\":12.008,\"profile_path\":\"/kTwixMOquzSkPnElRj91X0Kkij4.jpg\",\"known_for\":[{\"adult\":false,\"backdrop_path\":\"/3mO7fimik20gwkVNXNxbi0RY3wg.jpg\",\"id\":134375,\"title\":\"Home Alone: The Holiday Heist\",\"original_language\":\"en\",\"original_title\":\"Home Alone: The Holiday Heist\",\"overview\":\"10-year-old Finn is terrified to learn his family is relocating from sunny California to Maine in the scariest house he has ever seen! Convinced that his new house is haunted, Finn sets up a series of elaborate traps to catch the “ghost” in action. Left home alone with his sister while their parents are stranded across town, Finn’s traps catch a new target – a group of thieves who have targeted Finn’s house.\",\"poster_path\":\"/6JPrRC0JPM06y17pUXD6w1xMvKi.jpg\",\"media_type\":\"movie\",\"genre_ids\":[35,10751,10770],\"popularity\":28.474,\"release_date\":\"2012-12-03\",\"video\":false,\"vote_average\":5.2,\"vote_count\":406},{\"adult\":false,\"backdrop_path\":\"/3gRM6huZXsKIIp9JEUE57IkoUOI.jpg\",\"id\":71726,\"title\":\"Snowmen\",\"original_language\":\"en\",\"original_title\":\"Snowmen\",\"overview\":\"Three young friends find adventure and purpose in their attempts to set a Guinness World Record. Set in a wintry mountain town, the unpopular trio pursues fame through a series of schemes and stunts that eventually imperil their own lives. Along the way, they conquer schoolyard bullies, unite their community and discover that while fame is fleeting, true friendship lasts forever.\",\"poster_path\":\"/YYz6nzEDXliCdbrxzN8CF5F2yp.jpg\",\"media_type\":\"movie\",\"genre_ids\":[35,18,10751],\"popularity\":4.189,\"release_date\":\"2010-04-24\",\"video\":false,\"vote_average\":6.0,\"vote_count\":32},{\"adult\":false,\"backdrop_path\":\"/4vn6RFptNH06W3jMNDumUgNLFte.jpg\",\"id\":299591,\"title\":\"The Christmas Parade\",\"original_language\":\"en\",\"original_title\":\"The Christmas Parade\",\"overview\":\"A popular network morning host finds herself humiliated on the air by her fiancé and disappears to a small town. While there, she helps a budding artist save a community art center for the town's kids, by helping them with their float for the annual Christmas Parade.\",\"poster_path\":\"/xbFcTozizElEXP9uAxtTXbQa8mn.jpg\",\"media_type\":\"movie\",\"genre_ids\":[18,10751,10770],\"popularity\":7.622,\"release_date\":\"2014-12-14\",\"video\":false,\"vote_average\":5.3,\"vote_count\":45}]},{\"adult\":false,\"gender\":2,\"id\":2086568,\"known_for_department\":\"Acting\",\"name\":\"Christian Lindner\",\"original_name\":\"Christian Lindner\",\"popularity\":8.745,\"profile_path\":\"/PyiOLx0opa9QWiBgprDUGJyK3v.jpg\",\"known_for\":[{\"adult\":false,\"backdrop_path\":\"/jWXrQstj7p3Wl5MfYWY6IHqRpDb.jpg\",\"id\":94722,\"name\":\"Tagesschau\",\"original_language\":\"de\",\"original_name\":\"Tagesschau\",\"overview\":\"German daily news program, the oldest still existing program on German television.\",\"poster_path\":\"/7dFZJ2ZJJdcmkp05B9NWlqTJ5tq.jpg\",\"media_type\":\"tv\",\"genre_ids\":[10763],\"popularity\":377.958,\"first_air_date\":\"1952-12-26\",\"vote_average\":6.9,\"vote_count\":193,\"origin_country\":[\"DE\"]},{\"adult\":false,\"backdrop_path\":\"/t3D5QbFTEYW5R9mCZ7lhl4t9vfT.jpg\",\"id\":60742,\"name\":\"Neo Magazin Royale\",\"original_language\":\"de\",\"original_name\":\"Neo Magazin Royale\",\"overview\":\"Neo Magazin Royale is a satirical late night show hosted by Jan Böhmermann.\",\"poster_path\":\"/tyGd40QPEzDyqW4hkErOzCRBPa7.jpg\",\"media_type\":\"tv\",\"genre_ids\":[35,10767],\"popularity\":178.385,\"first_air_date\":\"2013-10-31\",\"vote_average\":7.19,\"vote_count\":21,\"origin_country\":[\"DE\"]},{\"adult\":false,\"backdrop_path\":\"/1ld9s03VRxTtsMEDf0vfVvFGE8l.jpg\",\"id\":81400,\"name\":\"Precht\",\"original_language\":\"de\",\"original_name\":\"Precht\",\"overview\":\"German talkshow hosted by Richard David Precht, a well known german philosopher and publisher, in which he speaks with a guest about a topic from culture, science, economy or politics in every episode\",\"poster_path\":\"/mj7NXWbIIOuwLs0dfmokAmcaGVU.jpg\",\"media_type\":\"tv\",\"genre_ids\":[10767],\"popularity\":37.211,\"first_air_date\":\"2012-09-02\",\"vote_average\":7.8,\"vote_count\":4,\"origin_country\":[\"DE\"]}]},{\"adult\":false,\"gender\":2,\"id\":3322844,\"known_for_department\":\"Acting\",\"name\":\"Christian Brigham\",\"original_name\":\"Christian Brigham\",\"popularity\":5.163,\"profile_path\":\"/5sWkyTykMdMbWuXNo8RbC6h9g01.jpg\",\"known_for\":[{\"adult\":false,\"backdrop_path\":null,\"id\":1106922,\"title\":\"NXT Battleground 2023\",\"original_language\":\"en\",\"original_title\":\"NXT Battleground 2023\",\"overview\":\"The 2023 NXT Battleground was the sixth Battleground professional wrestling livestreaming event produced by WWE. It was held for wrestlers from the promotion's NXT brand division. The event took place on May 28, 2023, at the Tsongas Center in Lowell, Massachusetts. It was the first Battleground held since July 2017, as well as the first to livestream on Peacock.\",\"poster_path\":\"/kui1yWDXYeG6MM3qOeENuM6VHJO.jpg\",\"media_type\":\"movie\",\"genre_ids\":[28,18],\"popularity\":1.497,\"release_date\":\"2023-05-28\",\"video\":true,\"vote_average\":7.0,\"vote_count\":3},{\"adult\":false,\"backdrop_path\":\"/rzoCTRIRtW1FvYWHlULI2efuEZt.jpg\",\"id\":1136244,\"title\":\"NXT The Great American Bash 2023\",\"original_language\":\"en\",\"original_title\":\"NXT The Great American Bash 2023\",\"overview\":\"The 2023 NXT: The Great American Bash is the upcoming 11th Great American Bash professional wrestling event produced by WWE, and 25th Great American Bash event overall. It will be held exclusively for wrestlers from the promotion's NXT brand division. Unlike the previous three years, which aired as television specials, the 2023 event will air as a livestreaming event, marking the first Great American Bash to air on both Peacock and the WWE Network. The event will take place on July 30, 2023, at the H-E-B Center at Cedar Park in Cedar Park, Texas.\",\"poster_path\":\"/qYbDgEYBU0E9dinsoU8emk3hvu8.jpg\",\"media_type\":\"movie\",\"genre_ids\":[],\"popularity\":1.186,\"release_date\":\"2023-07-30\",\"video\":true,\"vote_average\":6.3,\"vote_count\":3},{\"adult\":false,\"backdrop_path\":\"/7RVQORI99AaUXGRsSsJf9Una3Yd.jpg\",\"id\":1157246,\"title\":\"NXT No Mercy\",\"original_language\":\"en\",\"original_title\":\"NXT No Mercy\",\"overview\":\"NXT Women's title: Becky Lynch vs Tiffany Stratton. North American title: Dominik vs Trick Williams. Heritage Cup: Noam Dar vs Butch. Tag titles: Tony D, Stacks vs Creed Bros vs Garza, Humberto vs DTM.\",\"poster_path\":\"/dmJf7cxgE2ABUxh5zTlOoYISOux.jpg\",\"media_type\":\"movie\",\"genre_ids\":[28],\"popularity\":0.721,\"release_date\":\"2023-09-30\",\"video\":true,\"vote_average\":7.3,\"vote_count\":3}]}],\"total_pages\":372,\"total_results\":7439}\n"
          ]
        }
      ]
    },
    {
      "cell_type": "code",
      "source": [
        "data = response.json()"
      ],
      "metadata": {
        "id": "eN87ZnTLvsWK"
      },
      "execution_count": null,
      "outputs": []
    },
    {
      "cell_type": "code",
      "source": [
        "results = data.get('results')\n",
        "for result in results:\n",
        "  if result['name'] == 'Christian Bale':\n",
        "    print(result['original_name'])"
      ],
      "metadata": {
        "colab": {
          "base_uri": "https://localhost:8080/"
        },
        "id": "3KZsPUWkdyCK",
        "outputId": "e6c03ad3-0377-46e1-ac55-51389c76661a"
      },
      "execution_count": null,
      "outputs": [
        {
          "output_type": "stream",
          "name": "stdout",
          "text": [
            "Christian Bale\n"
          ]
        }
      ]
    },
    {
      "cell_type": "markdown",
      "source": [
        "# discovering movies of the actor"
      ],
      "metadata": {
        "id": "E7Znm_avjONR"
      }
    },
    {
      "cell_type": "code",
      "source": [
        "params = {'with_cast': 3894, 'api_key' : api_key, 'sort_by' : 'popularity.desc'}\n",
        "response = requests.get(api_url + '/discover/movie', headers = header, params = params)\n",
        "\n",
        "print(response.url)\n",
        "print(response.text)"
      ],
      "metadata": {
        "colab": {
          "base_uri": "https://localhost:8080/"
        },
        "id": "JnI2-ZOZr30u",
        "outputId": "c1b5c411-bb2f-43ee-ed7a-2f1a04588faf"
      },
      "execution_count": 20,
      "outputs": [
        {
          "output_type": "stream",
          "name": "stdout",
          "text": [
            "https://api.themoviedb.org/3/discover/movie?with_cast=3894&api_key=4ef4e74972dda644dd48bc97dad4c26d&sort_by=popularity.desc\n",
            "{\"page\":1,\"results\":[{\"adult\":false,\"backdrop_path\":\"/jsoz1HlxczSuTx0mDl2h0lxy36l.jpg\",\"genre_ids\":[14,28,35],\"id\":616037,\"original_language\":\"en\",\"original_title\":\"Thor: Love and Thunder\",\"overview\":\"After his retirement is interrupted by Gorr the God Butcher, a galactic killer who seeks the extinction of the gods, Thor Odinson enlists the help of King Valkyrie, Korg, and ex-girlfriend Jane Foster, who now wields Mjolnir as the Mighty Thor. Together they embark upon a harrowing cosmic adventure to uncover the mystery of the God Butcher’s vengeance and stop him before it’s too late.\",\"popularity\":103.971,\"poster_path\":\"/pIkRyD18kl4FhoCNQuWxWu5cBLM.jpg\",\"release_date\":\"2022-07-06\",\"title\":\"Thor: Love and Thunder\",\"video\":false,\"vote_average\":6.484,\"vote_count\":6890},{\"adult\":false,\"backdrop_path\":\"/nMKdUUepR0i5zn0y1T4CsSB5chy.jpg\",\"genre_ids\":[18,28,80,53],\"id\":155,\"original_language\":\"en\",\"original_title\":\"The Dark Knight\",\"overview\":\"Batman raises the stakes in his war on crime. With the help of Lt. Jim Gordon and District Attorney Harvey Dent, Batman sets out to dismantle the remaining criminal organizations that plague the streets. The partnership proves to be effective, but they soon find themselves prey to a reign of chaos unleashed by a rising criminal mastermind known to the terrified citizens of Gotham as the Joker.\",\"popularity\":101.005,\"poster_path\":\"/qJ2tW6WMUDux911r6m7haRef0WH.jpg\",\"release_date\":\"2008-07-16\",\"title\":\"The Dark Knight\",\"video\":false,\"vote_average\":8.515,\"vote_count\":31400},{\"adult\":false,\"backdrop_path\":\"/hJ1jUw8irCiWwQk7BElxF92BrlK.jpg\",\"genre_ids\":[12,18,28],\"id\":147441,\"original_language\":\"en\",\"original_title\":\"Exodus: Gods and Kings\",\"overview\":\"The defiant leader Moses rises up against the Egyptian Pharaoh Ramses, setting 400,000 slaves on a monumental journey of escape from Egypt and its terrifying cycle of deadly plagues.\",\"popularity\":58.979,\"poster_path\":\"/uaDj37JtvLan9tihxZ18e6qL33b.jpg\",\"release_date\":\"2014-12-03\",\"title\":\"Exodus: Gods and Kings\",\"video\":false,\"vote_average\":5.852,\"vote_count\":4342},{\"adult\":false,\"backdrop_path\":\"/c3OHQncTAnKFhdOTX7D3LTW6son.jpg\",\"genre_ids\":[28,80,18,53],\"id\":49026,\"original_language\":\"en\",\"original_title\":\"The Dark Knight Rises\",\"overview\":\"Following the death of District Attorney Harvey Dent, Batman assumes responsibility for Dent's crimes to protect the late attorney's reputation and is subsequently hunted by the Gotham City Police Department. Eight years later, Batman encounters the mysterious Selina Kyle and the villainous Bane, a new terrorist leader who overwhelms Gotham's finest. The Dark Knight resurfaces to protect a city that has branded him an enemy.\",\"popularity\":77.827,\"poster_path\":\"/hr0L2aueqlP2BYUblTTjmtn0hw4.jpg\",\"release_date\":\"2012-07-17\",\"title\":\"The Dark Knight Rises\",\"video\":false,\"vote_average\":7.778,\"vote_count\":21800},{\"adult\":false,\"backdrop_path\":\"/ydmZIafp66mHABs3QJDwvjRgZfE.jpg\",\"genre_ids\":[18,28,36],\"id\":359724,\"original_language\":\"en\",\"original_title\":\"Ford v Ferrari\",\"overview\":\"American car designer Carroll Shelby and the British-born driver Ken Miles work together to battle corporate interference, the laws of physics, and their own personal demons to build a revolutionary race car for Ford Motor Company and take on the dominating race cars of Enzo Ferrari at the 24 Hours of Le Mans in France in 1966.\",\"popularity\":60.932,\"poster_path\":\"/dR1Ju50iudrOh3YgfwkAU1g2HZe.jpg\",\"release_date\":\"2019-11-13\",\"title\":\"Ford v Ferrari\",\"video\":false,\"vote_average\":8.006,\"vote_count\":7258},{\"adult\":false,\"backdrop_path\":\"/lh5lbisD4oDbEKgUxoRaZU8HVrk.jpg\",\"genre_ids\":[28,80,18],\"id\":272,\"original_language\":\"en\",\"original_title\":\"Batman Begins\",\"overview\":\"Driven by tragedy, billionaire Bruce Wayne dedicates his life to uncovering and defeating the corruption that plagues his home, Gotham City.  Unable to work within the system, he instead creates a new identity, a symbol of fear for the criminal underworld - The Batman.\",\"popularity\":57.401,\"poster_path\":\"/4MpN4kIEqUjW8OPtOQJXlTdHiJV.jpg\",\"release_date\":\"2005-06-10\",\"title\":\"Batman Begins\",\"video\":false,\"vote_average\":7.704,\"vote_count\":20043},{\"adult\":false,\"backdrop_path\":\"/xBDE2d6HM1aBKQRu4IT7SfPD9fs.jpg\",\"genre_ids\":[18,9648,878],\"id\":1124,\"original_language\":\"en\",\"original_title\":\"The Prestige\",\"overview\":\"A mysterious story of two magicians whose intense rivalry leads them on a life-long battle for supremacy -- full of obsession, deceit and jealousy with dangerous and deadly consequences.\",\"popularity\":58.68,\"poster_path\":\"/tRNlZbgNCNOpLpbPEz5L8G8A0JN.jpg\",\"release_date\":\"2006-10-19\",\"title\":\"The Prestige\",\"video\":false,\"vote_average\":8.203,\"vote_count\":15139},{\"adult\":false,\"backdrop_path\":\"/5tKiuZvvV1lic7v65rdoGPmoOvf.jpg\",\"genre_ids\":[28,878,53],\"id\":534,\"original_language\":\"en\",\"original_title\":\"Terminator Salvation\",\"overview\":\"All grown up in post-apocalyptic 2018, John Connor must lead the resistance of humans against the increasingly dominating militaristic robots. But when Marcus Wright appears, his existence confuses the mission as Connor tries to determine whether Wright has come from the future or the past -- and whether he's friend or foe.\",\"popularity\":38.991,\"poster_path\":\"/gw6JhlekZgtKUFlDTezq3j5JEPK.jpg\",\"release_date\":\"2009-05-20\",\"title\":\"Terminator Salvation\",\"video\":false,\"vote_average\":6.054,\"vote_count\":6159},{\"adult\":false,\"backdrop_path\":\"/bneUTWFAcVCdsb0O5UwZbJd8xqZ.jpg\",\"genre_ids\":[53,18,80],\"id\":1359,\"original_language\":\"en\",\"original_title\":\"American Psycho\",\"overview\":\"A wealthy New York investment banking executive hides his alternate psychopathic ego from his co-workers and friends as he escalates deeper into his illogical, gratuitous fantasies.\",\"popularity\":51.559,\"poster_path\":\"/9uGHEgsiUXjCNq8wdq4r49YL8A1.jpg\",\"release_date\":\"2000-04-13\",\"title\":\"American Psycho\",\"video\":false,\"vote_average\":7.406,\"vote_count\":10196},{\"adult\":false,\"backdrop_path\":\"/9YAVIwBcBrLXeukg2dgMGfYB1uu.jpg\",\"genre_ids\":[12,16,10751,10749],\"id\":10530,\"original_language\":\"en\",\"original_title\":\"Pocahontas\",\"overview\":\"Pocahontas, daughter of a Native American tribe chief, falls in love with an English soldier as colonists invade 17th century Virginia.\",\"popularity\":39.453,\"poster_path\":\"/kZ1ft0QZ4e3zDUPMBftEkwI9ftd.jpg\",\"release_date\":\"1995-06-14\",\"title\":\"Pocahontas\",\"video\":false,\"vote_average\":6.926,\"vote_count\":5418},{\"adult\":false,\"backdrop_path\":\"/i7UCf0ysjbYYaqcSKUox9BJz4Kp.jpg\",\"genre_ids\":[35,18],\"id\":318846,\"original_language\":\"en\",\"original_title\":\"The Big Short\",\"overview\":\"The men who made millions from a global economic meltdown.\",\"popularity\":29.643,\"poster_path\":\"/isuQWbJPbjybBEWdcCaBUPmU0XO.jpg\",\"release_date\":\"2015-12-11\",\"title\":\"The Big Short\",\"video\":false,\"vote_average\":7.35,\"vote_count\":8548},{\"adult\":false,\"backdrop_path\":\"/rZTj8AVUD8IKlsVF0XFoZzPG2dv.jpg\",\"genre_ids\":[37,18,36],\"id\":384680,\"original_language\":\"en\",\"original_title\":\"Hostiles\",\"overview\":\"A legendary Native American-hating Army captain nearing retirement in 1892 is given one last assignment: to escort a Cheyenne chief and his family through dangerous territory back to his Montana reservation.\",\"popularity\":26.36,\"poster_path\":\"/rqoezyB51GfhiloOB5ZErg5HXas.jpg\",\"release_date\":\"2017-12-22\",\"title\":\"Hostiles\",\"video\":false,\"vote_average\":6.918,\"vote_count\":2152},{\"adult\":false,\"backdrop_path\":\"/79PcXPpbDWql74h8Y00mNwbYMbS.jpg\",\"genre_ids\":[9648,36,53,35,80],\"id\":664469,\"original_language\":\"en\",\"original_title\":\"Amsterdam\",\"overview\":\"In the 1930s, three friends—a doctor, a nurse, and an attorney—witness a murder, become suspects themselves and uncover one of the most outrageous plots in American history.\",\"popularity\":36.268,\"poster_path\":\"/6sJcVzGCwrDCBMV0DU6eRzA2UxM.jpg\",\"release_date\":\"2022-09-27\",\"title\":\"Amsterdam\",\"video\":false,\"vote_average\":6.064,\"vote_count\":1305},{\"adult\":false,\"backdrop_path\":\"/bof71DUdBb5FwTylar4rnIVd8z.jpg\",\"genre_ids\":[18,80],\"id\":168672,\"original_language\":\"en\",\"original_title\":\"American Hustle\",\"overview\":\"A conman and his seductive partner are forced to work for a wild FBI agent, who pushes them into a world of Jersey power-brokers and the Mafia.\",\"popularity\":37.085,\"poster_path\":\"/koXGRfatN0tURFWMA0Keb0p0Gtg.jpg\",\"release_date\":\"2013-12-03\",\"title\":\"American Hustle\",\"video\":false,\"vote_average\":6.854,\"vote_count\":6966},{\"adult\":false,\"backdrop_path\":\"/4C2Usp4K9CEV0Idy9VJv6tVOLpW.jpg\",\"genre_ids\":[80,28],\"id\":11322,\"original_language\":\"en\",\"original_title\":\"Public Enemies\",\"overview\":\"Depression-era bank robber John Dillinger's charm and audacity endear him to much of America's downtrodden public, but he's also a thorn in the side of J. Edgar Hoover and the fledgling FBI. Desperate to capture the elusive outlaw, Hoover makes Dillinger his first Public Enemy Number One and assigns his top agent, Melvin Purvis, the task of bringing him in dead or alive.\",\"popularity\":27.797,\"poster_path\":\"/ezFQaPf4cOEfsl39Me0gSV29d7V.jpg\",\"release_date\":\"2009-07-01\",\"title\":\"Public Enemies\",\"video\":false,\"vote_average\":6.681,\"vote_count\":4226},{\"adult\":false,\"backdrop_path\":\"/2eznGndOi8s9CGReAvcQ8PEULwm.jpg\",\"genre_ids\":[37],\"id\":5176,\"original_language\":\"en\",\"original_title\":\"3:10 to Yuma\",\"overview\":\"In Arizona in the late 1800s, infamous outlaw Ben Wade and his vicious gang of thieves and murderers have plagued the Southern Railroad. When Wade is captured, Civil War veteran Dan Evans, struggling to survive on his drought-plagued ranch, volunteers to deliver him alive to the \\\"3:10 to Yuma\\\", a train that will take the killer to trial.\",\"popularity\":24.699,\"poster_path\":\"/voMB69AsLnPNmtfbrBl0lbeFKDH.jpg\",\"release_date\":\"2007-09-06\",\"title\":\"3:10 to Yuma\",\"video\":false,\"vote_average\":7.208,\"vote_count\":3362},{\"adult\":false,\"backdrop_path\":\"/pApaVlxJCp2o4mrzCAD3AaLjq77.jpg\",\"genre_ids\":[12,18],\"id\":407436,\"original_language\":\"en\",\"original_title\":\"Mowgli: Legend of the Jungle\",\"overview\":\"A human child raised by wolves, must face off against a menacing tiger named Shere Khan, as well as his own origins.\",\"popularity\":30.413,\"poster_path\":\"/clRnzMsFoMIdC7I5JsG6dnnHH8l.jpg\",\"release_date\":\"2018-11-25\",\"title\":\"Mowgli: Legend of the Jungle\",\"video\":false,\"vote_average\":6.486,\"vote_count\":2400},{\"adult\":false,\"backdrop_path\":\"/q8Ea7BIux9GevWePejuz8a1zHx8.jpg\",\"genre_ids\":[18,36,10752],\"id\":76758,\"original_language\":\"zh\",\"original_title\":\"金陵十三釵\",\"overview\":\"A Westerner finds refuge with a group of women in a church during Japan's rape of Nanking in 1937. Posing as a priest, he attempts to lead the women to safety.\",\"popularity\":19.329,\"poster_path\":\"/pYltmnA1VDWl45EcVQoJYPsTpLW.jpg\",\"release_date\":\"2011-12-15\",\"title\":\"The Flowers of War\",\"video\":false,\"vote_average\":7.485,\"vote_count\":745},{\"adult\":false,\"backdrop_path\":\"/a8e4wgXPPjfOviRYE6L3kAXpvwr.jpg\",\"genre_ids\":[53,80,27,9648],\"id\":800815,\"original_language\":\"en\",\"original_title\":\"The Pale Blue Eye\",\"overview\":\"West Point, New York, 1830. When a cadet at the burgeoning military academy is found hanged with his heart cut out, the top brass summons former New York City constable Augustus Landor to investigate. While attempting to solve this grisly mystery, the reluctant detective engages the help of one of the cadets: a strange but brilliant young fellow by the name of Edgar Allan Poe.\",\"popularity\":23.619,\"poster_path\":\"/9xkGlFRqrN8btTLU0KQvOfn2PHr.jpg\",\"release_date\":\"2022-12-22\",\"title\":\"The Pale Blue Eye\",\"video\":false,\"vote_average\":6.868,\"vote_count\":1611},{\"adult\":false,\"backdrop_path\":\"/k1ppJC3h2qgHES2E17KPUhAcOBx.jpg\",\"genre_ids\":[18,36,10752],\"id\":10110,\"original_language\":\"en\",\"original_title\":\"Empire of the Sun\",\"overview\":\"Jamie Graham, a privileged English boy, is living in Shanghai when the Japanese invade and force all foreigners into prison camps. Jamie is captured with an American sailor, who looks out for him while they are in the camp together. Even though he is separated from his parents and in a hostile environment, Jamie maintains his dignity and youthful spirit, providing a beacon of hope for the others held captive with him.\",\"popularity\":17.885,\"poster_path\":\"/gEaCzjwHoPgyQFcwHql7o5YLHAU.jpg\",\"release_date\":\"1987-12-09\",\"title\":\"Empire of the Sun\",\"video\":false,\"vote_average\":7.522,\"vote_count\":1798}],\"total_pages\":4,\"total_results\":75}\n"
          ]
        }
      ]
    },
    {
      "cell_type": "code",
      "source": [
        "data = response.json()\n",
        "\n",
        "results = data.get('results')\n",
        "\n",
        "for result in results:\n",
        "  print(result['title'])"
      ],
      "metadata": {
        "colab": {
          "base_uri": "https://localhost:8080/"
        },
        "id": "iC7t30L4ylIa",
        "outputId": "d170c14b-38ff-4b90-83a2-4d509760a072"
      },
      "execution_count": 22,
      "outputs": [
        {
          "output_type": "stream",
          "name": "stdout",
          "text": [
            "Thor: Love and Thunder\n",
            "The Dark Knight\n",
            "Exodus: Gods and Kings\n",
            "The Dark Knight Rises\n",
            "Ford v Ferrari\n",
            "Batman Begins\n",
            "The Prestige\n",
            "Terminator Salvation\n",
            "American Psycho\n",
            "Pocahontas\n",
            "The Big Short\n",
            "Hostiles\n",
            "Amsterdam\n",
            "American Hustle\n",
            "Public Enemies\n",
            "3:10 to Yuma\n",
            "Mowgli: Legend of the Jungle\n",
            "The Flowers of War\n",
            "The Pale Blue Eye\n",
            "Empire of the Sun\n"
          ]
        }
      ]
    }
  ]
}